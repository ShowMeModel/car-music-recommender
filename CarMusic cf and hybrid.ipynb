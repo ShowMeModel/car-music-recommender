{
 "cells": [
  {
   "cell_type": "markdown",
   "metadata": {},
   "source": [
    "## Import packages"
   ]
  },
  {
   "cell_type": "code",
   "execution_count": 1,
   "metadata": {},
   "outputs": [],
   "source": [
    "from lightfm import LightFM\n",
    "from lightfm.data import Dataset"
   ]
  },
  {
   "cell_type": "code",
   "execution_count": 2,
   "metadata": {},
   "outputs": [],
   "source": [
    "from lightfm.evaluation import auc_score, precision_at_k, recall_at_k, reciprocal_rank\n",
    "from lightfm.cross_validation import random_train_test_split"
   ]
  },
  {
   "cell_type": "code",
   "execution_count": 3,
   "metadata": {},
   "outputs": [],
   "source": [
    "import numpy as np\n",
    "import pandas as pd"
   ]
  },
  {
   "cell_type": "code",
   "execution_count": 4,
   "metadata": {},
   "outputs": [],
   "source": [
    "from pandasql import sqldf\n",
    "pysqldf = lambda q: sqldf(q, globals())"
   ]
  },
  {
   "cell_type": "code",
   "execution_count": 5,
   "metadata": {},
   "outputs": [],
   "source": [
    "from scipy.stats import describe"
   ]
  },
  {
   "cell_type": "code",
   "execution_count": 38,
   "metadata": {},
   "outputs": [],
   "source": [
    "from sklearn.preprocessing import MinMaxScaler"
   ]
  },
  {
   "cell_type": "markdown",
   "metadata": {},
   "source": [
    "## Agregated dataset"
   ]
  },
  {
   "cell_type": "code",
   "execution_count": 39,
   "metadata": {},
   "outputs": [],
   "source": [
    "data = pd.read_csv('dataset_aggr.csv')"
   ]
  },
  {
   "cell_type": "code",
   "execution_count": 40,
   "metadata": {},
   "outputs": [],
   "source": [
    "music_category = pd.read_csv('music_type.csv')\n",
    "item_features = music_category"
   ]
  },
  {
   "cell_type": "markdown",
   "metadata": {},
   "source": [
    "### Profiling users"
   ]
  },
  {
   "cell_type": "code",
   "execution_count": 41,
   "metadata": {},
   "outputs": [],
   "source": [
    "# This will work as a user profile\n",
    "\n",
    "user_features = pysqldf('''select UserID, avg(number_of_unique_songs) as X1, avg(number_of_unique_genres) as X2, \n",
    "                           avg(main_genre_dominance) as X3, avg(genre_ratio) as X4, \n",
    "                           sum(no_stimulus_points) as X5, sum(stimulus_points) as X6,\n",
    "                           sum(driving_style_relaxed_driving) as X7, sum(driving_style_sport_driving) as X8,\n",
    "                           sum(landscape_coast_line) as X9, sum(landscape_country_side) as X10, \n",
    "                           sum(landscape_mountains) as X11,\n",
    "                           sum(landscape_urban) as X12, sum(mood_active) as X13, sum(mood_happy) as X14, \n",
    "                           sum(mood_lazy) as X15, sum(mood_sad) as X16,\n",
    "                           sum(natural_phenomena_afternoon) as X17, sum(natural_phenomena_day_time) as X18,\n",
    "                           sum(natural_phenomena_morning) as X19, sum(natural_phenomena_night) as X20,\n",
    "                           sum(road_type_city) as X21, sum(road_type_highway) as X22, \n",
    "                           sum(road_type_serpentine) as X23,\n",
    "                           sum(sleepiness_awake) as X24, sum(sleepiness_sleepy) as X25, \n",
    "                           sum(traffic_conditions_free_road) as X26,\n",
    "                           sum(traffic_conditions_lots_of_cars) as X27, sum(traffic_conditions_traffic_jam) as X28,\n",
    "                           sum(weather_cloudy) as X29, sum(weather_rainy) as X30, \n",
    "                           sum(weather_snowing) as X31, sum(weather_sunny) as X32\n",
    "                           from data\n",
    "                           group by UserID''')"
   ]
  },
  {
   "cell_type": "code",
   "execution_count": 42,
   "metadata": {},
   "outputs": [
    {
     "data": {
      "text/html": [
       "<div>\n",
       "<style scoped>\n",
       "    .dataframe tbody tr th:only-of-type {\n",
       "        vertical-align: middle;\n",
       "    }\n",
       "\n",
       "    .dataframe tbody tr th {\n",
       "        vertical-align: top;\n",
       "    }\n",
       "\n",
       "    .dataframe thead th {\n",
       "        text-align: right;\n",
       "    }\n",
       "</style>\n",
       "<table border=\"1\" class=\"dataframe\">\n",
       "  <thead>\n",
       "    <tr style=\"text-align: right;\">\n",
       "      <th></th>\n",
       "      <th>UserID</th>\n",
       "      <th>X1</th>\n",
       "      <th>X2</th>\n",
       "      <th>X3</th>\n",
       "      <th>X4</th>\n",
       "      <th>X5</th>\n",
       "      <th>X6</th>\n",
       "      <th>X7</th>\n",
       "      <th>X8</th>\n",
       "      <th>X9</th>\n",
       "      <th>...</th>\n",
       "      <th>X23</th>\n",
       "      <th>X24</th>\n",
       "      <th>X25</th>\n",
       "      <th>X26</th>\n",
       "      <th>X27</th>\n",
       "      <th>X28</th>\n",
       "      <th>X29</th>\n",
       "      <th>X30</th>\n",
       "      <th>X31</th>\n",
       "      <th>X32</th>\n",
       "    </tr>\n",
       "  </thead>\n",
       "  <tbody>\n",
       "    <tr>\n",
       "      <th>0</th>\n",
       "      <td>1001</td>\n",
       "      <td>0.065217</td>\n",
       "      <td>0.555556</td>\n",
       "      <td>0.250000</td>\n",
       "      <td>0.050000</td>\n",
       "      <td>0.056701</td>\n",
       "      <td>0.038095</td>\n",
       "      <td>0.051282</td>\n",
       "      <td>0.000000</td>\n",
       "      <td>0.045455</td>\n",
       "      <td>...</td>\n",
       "      <td>0.000000</td>\n",
       "      <td>0.214286</td>\n",
       "      <td>0.117647</td>\n",
       "      <td>0.000000</td>\n",
       "      <td>0.032258</td>\n",
       "      <td>0.04</td>\n",
       "      <td>0.08</td>\n",
       "      <td>0.058824</td>\n",
       "      <td>0.047619</td>\n",
       "      <td>0.142857</td>\n",
       "    </tr>\n",
       "    <tr>\n",
       "      <th>1</th>\n",
       "      <td>1002</td>\n",
       "      <td>0.210145</td>\n",
       "      <td>0.777778</td>\n",
       "      <td>0.500000</td>\n",
       "      <td>0.233333</td>\n",
       "      <td>0.123711</td>\n",
       "      <td>0.171429</td>\n",
       "      <td>0.051282</td>\n",
       "      <td>0.294118</td>\n",
       "      <td>0.181818</td>\n",
       "      <td>...</td>\n",
       "      <td>0.064516</td>\n",
       "      <td>0.000000</td>\n",
       "      <td>0.000000</td>\n",
       "      <td>0.172414</td>\n",
       "      <td>0.096774</td>\n",
       "      <td>0.32</td>\n",
       "      <td>0.08</td>\n",
       "      <td>0.294118</td>\n",
       "      <td>0.285714</td>\n",
       "      <td>0.142857</td>\n",
       "    </tr>\n",
       "    <tr>\n",
       "      <th>2</th>\n",
       "      <td>1003</td>\n",
       "      <td>0.079710</td>\n",
       "      <td>0.444444</td>\n",
       "      <td>0.375000</td>\n",
       "      <td>0.149306</td>\n",
       "      <td>0.061856</td>\n",
       "      <td>0.052381</td>\n",
       "      <td>0.076923</td>\n",
       "      <td>0.058824</td>\n",
       "      <td>0.045455</td>\n",
       "      <td>...</td>\n",
       "      <td>0.032258</td>\n",
       "      <td>0.071429</td>\n",
       "      <td>0.058824</td>\n",
       "      <td>0.068966</td>\n",
       "      <td>0.129032</td>\n",
       "      <td>0.00</td>\n",
       "      <td>0.04</td>\n",
       "      <td>0.058824</td>\n",
       "      <td>0.047619</td>\n",
       "      <td>0.047619</td>\n",
       "    </tr>\n",
       "    <tr>\n",
       "      <th>3</th>\n",
       "      <td>1004</td>\n",
       "      <td>0.028986</td>\n",
       "      <td>0.222222</td>\n",
       "      <td>0.500000</td>\n",
       "      <td>0.300000</td>\n",
       "      <td>0.020619</td>\n",
       "      <td>0.023810</td>\n",
       "      <td>0.051282</td>\n",
       "      <td>0.000000</td>\n",
       "      <td>0.000000</td>\n",
       "      <td>...</td>\n",
       "      <td>0.000000</td>\n",
       "      <td>0.142857</td>\n",
       "      <td>0.000000</td>\n",
       "      <td>0.000000</td>\n",
       "      <td>0.000000</td>\n",
       "      <td>0.04</td>\n",
       "      <td>0.04</td>\n",
       "      <td>0.058824</td>\n",
       "      <td>0.000000</td>\n",
       "      <td>0.047619</td>\n",
       "    </tr>\n",
       "    <tr>\n",
       "      <th>4</th>\n",
       "      <td>1005</td>\n",
       "      <td>0.144928</td>\n",
       "      <td>0.777778</td>\n",
       "      <td>0.404762</td>\n",
       "      <td>0.143991</td>\n",
       "      <td>0.128866</td>\n",
       "      <td>0.066667</td>\n",
       "      <td>0.153846</td>\n",
       "      <td>0.058824</td>\n",
       "      <td>0.090909</td>\n",
       "      <td>...</td>\n",
       "      <td>0.129032</td>\n",
       "      <td>0.071429</td>\n",
       "      <td>0.176471</td>\n",
       "      <td>0.172414</td>\n",
       "      <td>0.096774</td>\n",
       "      <td>0.08</td>\n",
       "      <td>0.16</td>\n",
       "      <td>0.058824</td>\n",
       "      <td>0.095238</td>\n",
       "      <td>0.047619</td>\n",
       "    </tr>\n",
       "  </tbody>\n",
       "</table>\n",
       "<p>5 rows × 33 columns</p>\n",
       "</div>"
      ],
      "text/plain": [
       "   UserID        X1        X2        X3        X4        X5        X6  \\\n",
       "0    1001  0.065217  0.555556  0.250000  0.050000  0.056701  0.038095   \n",
       "1    1002  0.210145  0.777778  0.500000  0.233333  0.123711  0.171429   \n",
       "2    1003  0.079710  0.444444  0.375000  0.149306  0.061856  0.052381   \n",
       "3    1004  0.028986  0.222222  0.500000  0.300000  0.020619  0.023810   \n",
       "4    1005  0.144928  0.777778  0.404762  0.143991  0.128866  0.066667   \n",
       "\n",
       "         X7        X8        X9    ...          X23       X24       X25  \\\n",
       "0  0.051282  0.000000  0.045455    ...     0.000000  0.214286  0.117647   \n",
       "1  0.051282  0.294118  0.181818    ...     0.064516  0.000000  0.000000   \n",
       "2  0.076923  0.058824  0.045455    ...     0.032258  0.071429  0.058824   \n",
       "3  0.051282  0.000000  0.000000    ...     0.000000  0.142857  0.000000   \n",
       "4  0.153846  0.058824  0.090909    ...     0.129032  0.071429  0.176471   \n",
       "\n",
       "        X26       X27   X28   X29       X30       X31       X32  \n",
       "0  0.000000  0.032258  0.04  0.08  0.058824  0.047619  0.142857  \n",
       "1  0.172414  0.096774  0.32  0.08  0.294118  0.285714  0.142857  \n",
       "2  0.068966  0.129032  0.00  0.04  0.058824  0.047619  0.047619  \n",
       "3  0.000000  0.000000  0.04  0.04  0.058824  0.000000  0.047619  \n",
       "4  0.172414  0.096774  0.08  0.16  0.058824  0.095238  0.047619  \n",
       "\n",
       "[5 rows x 33 columns]"
      ]
     },
     "execution_count": 42,
     "metadata": {},
     "output_type": "execute_result"
    }
   ],
   "source": [
    "scale = MinMaxScaler()\n",
    "_user_ids = user_features.UserID.copy()\n",
    "user_features = pd.DataFrame(scale.fit_transform(user_features.values), \n",
    "                             columns=user_features.columns, index=user_features.index)\n",
    "user_features.UserID = _user_ids\n",
    "user_features.head()"
   ]
  },
  {
   "cell_type": "code",
   "execution_count": 43,
   "metadata": {},
   "outputs": [],
   "source": [
    "dataset = Dataset()\n",
    "dataset.fit(data.UserID.unique(),\n",
    "            data.ItemID.unique())"
   ]
  },
  {
   "cell_type": "code",
   "execution_count": 44,
   "metadata": {},
   "outputs": [
    {
     "name": "stdout",
     "output_type": "stream",
     "text": [
      "Num users: 42, num_items 139.\n"
     ]
    }
   ],
   "source": [
    "num_users, num_items = dataset.interactions_shape()\n",
    "print('Num users: {}, num_items {}.'.format(num_users, num_items))"
   ]
  },
  {
   "cell_type": "code",
   "execution_count": 45,
   "metadata": {},
   "outputs": [],
   "source": [
    "dataset.fit_partial(users=[x['UserID'] for idx, x in user_features.iterrows()],\n",
    "                    items=[x['ItemID'] for idx, x in item_features.iterrows()],\n",
    "                    # user_features=[[f'X{i}_{x[f\"X{i}\"]}' for i in range(1,32)] for idx, x in user_features.iterrows()],\n",
    "                    user_features=[f'X{i}' for i in range(1,32)],\n",
    "                    item_features=[x['category_name'] for idx, x in item_features.iterrows()])\n",
    "                    # item_features=['category_name', ])"
   ]
  },
  {
   "cell_type": "code",
   "execution_count": 46,
   "metadata": {},
   "outputs": [
    {
     "name": "stdout",
     "output_type": "stream",
     "text": [
      "<42x73 sparse matrix of type '<class 'numpy.float32'>'\n",
      "\twith 1344 stored elements in Compressed Sparse Row format>\n"
     ]
    }
   ],
   "source": [
    "user_features = dataset.build_user_features([( x['UserID'], {f'X{i}': x[f'X{i}'] for i in range(1,32)} ) \n",
    "                                             for idx, x in user_features.iterrows()])\n",
    "\n",
    "print(repr(user_features))"
   ]
  },
  {
   "cell_type": "code",
   "execution_count": 47,
   "metadata": {},
   "outputs": [
    {
     "name": "stdout",
     "output_type": "stream",
     "text": [
      "<139x149 sparse matrix of type '<class 'numpy.float32'>'\n",
      "\twith 278 stored elements in Compressed Sparse Row format>\n"
     ]
    }
   ],
   "source": [
    "item_features = dataset.build_item_features([( x['ItemID'], [x['category_name'], ] ) \n",
    "                                             for idx, x in item_features.iterrows()])\n",
    "\n",
    "print(repr(item_features))"
   ]
  },
  {
   "cell_type": "code",
   "execution_count": 48,
   "metadata": {},
   "outputs": [
    {
     "name": "stdout",
     "output_type": "stream",
     "text": [
      "<42x139 sparse matrix of type '<class 'numpy.int32'>'\n",
      "\twith 930 stored elements in COOrdinate format>\n"
     ]
    }
   ],
   "source": [
    "(interactions, weights) = dataset.build_interactions(((x['UserID'], x['ItemID'], x['avg_rating'])\n",
    "                                                       for idx, x in data.iterrows()))\n",
    "\n",
    "print(repr(interactions))"
   ]
  },
  {
   "cell_type": "markdown",
   "metadata": {},
   "source": [
    "### Split data"
   ]
  },
  {
   "cell_type": "code",
   "execution_count": 49,
   "metadata": {},
   "outputs": [],
   "source": [
    "train, test = random_train_test_split(interactions, test_percentage=0.2)"
   ]
  },
  {
   "cell_type": "code",
   "execution_count": 50,
   "metadata": {},
   "outputs": [
    {
     "data": {
      "text/plain": [
       "((42, 139), (42, 139))"
      ]
     },
     "execution_count": 50,
     "metadata": {},
     "output_type": "execute_result"
    }
   ],
   "source": [
    "train.shape, test.shape"
   ]
  },
  {
   "cell_type": "code",
   "execution_count": 64,
   "metadata": {},
   "outputs": [],
   "source": [
    "NUM_THREADS = 4\n",
    "NUM_COMPONENTS = 2000\n",
    "NUM_EPOCHS = 500\n",
    "ITEM_ALPHA = 2e-6\n",
    "USER_ALPHA = 1e-6"
   ]
  },
  {
   "cell_type": "code",
   "execution_count": 65,
   "metadata": {},
   "outputs": [],
   "source": [
    "# Define a new model instance\n",
    "model = LightFM(loss='warp',\n",
    "                learning_schedule='adadelta',\n",
    "                learning_rate=0.05,\n",
    "                rho=0.75,\n",
    "                epsilon=1e-5,\n",
    "                user_alpha=USER_ALPHA,\n",
    "                max_sampled=20,\n",
    "                item_alpha=ITEM_ALPHA,\n",
    "                no_components=NUM_COMPONENTS)\n",
    "\n",
    "# Fit the hybrid model. Note that this time, we pass\n",
    "# in the item features matrix.\n",
    "model = model.fit(train,\n",
    "                  item_features=item_features,\n",
    "                  user_features=user_features,\n",
    "                  # sample_weight=weights,\n",
    "                  # there is no way to get weights after randomsplit\n",
    "                  epochs=NUM_EPOCHS,\n",
    "                  num_threads=NUM_THREADS,\n",
    "                  verbose=False)"
   ]
  },
  {
   "cell_type": "code",
   "execution_count": 66,
   "metadata": {},
   "outputs": [
    {
     "name": "stdout",
     "output_type": "stream",
     "text": [
      "Hybrid training set AUC: 1.0\n"
     ]
    }
   ],
   "source": [
    "train_auc = auc_score(model,\n",
    "                      train,\n",
    "                      item_features=item_features,\n",
    "                      user_features=user_features,\n",
    "                      num_threads=NUM_THREADS).mean()\n",
    "print('Hybrid training set AUC: %s' % train_auc)"
   ]
  },
  {
   "cell_type": "code",
   "execution_count": 67,
   "metadata": {},
   "outputs": [
    {
     "name": "stdout",
     "output_type": "stream",
     "text": [
      "Hybrid test set AUC: 0.4985979\n"
     ]
    }
   ],
   "source": [
    "test_auc = np.nanmean(auc_score(model,\n",
    "                                test,\n",
    "                                train_interactions=train,\n",
    "                                item_features=item_features,\n",
    "                                user_features=user_features,\n",
    "                                num_threads=NUM_THREADS))\n",
    "print('Hybrid test set AUC: %s' % test_auc)"
   ]
  },
  {
   "cell_type": "code",
   "execution_count": 68,
   "metadata": {},
   "outputs": [
    {
     "name": "stdout",
     "output_type": "stream",
     "text": [
      "Reciprocal rank for test set: 0.21552294\n"
     ]
    }
   ],
   "source": [
    "reciprocal = reciprocal_rank(model,\n",
    "                             test,\n",
    "                             train_interactions=train,\n",
    "                             item_features=item_features,\n",
    "                             user_features=user_features,\n",
    "                             num_threads=NUM_THREADS).mean()\n",
    "print('Reciprocal rank for test set: %s' % reciprocal)"
   ]
  },
  {
   "cell_type": "code",
   "execution_count": 69,
   "metadata": {},
   "outputs": [
    {
     "name": "stdout",
     "output_type": "stream",
     "text": [
      "Exact precision (per user): [0.  0.  0.  0.  0.2 0.4 0.  0.2 0.1 0.3 0.  0.  1.  0.1 0.1 0.1 0.  0.1\n",
      " 0.2 0.  0.1 0.  0.  0.  0.  0.5 0.1 0.  0.  0.  0.  0. ]\n",
      "\n",
      "Hybrid test set Precision at K: DescribeResult(nobs=32, minmax=(0.0, 1.0), mean=0.109375, variance=0.04216734, skewness=2.9379661083221436, kurtosis=9.429328101949638)\n",
      "\n",
      "Hybrid test set mean Precision at K: 0.109375\n"
     ]
    }
   ],
   "source": [
    "found_precision = precision_at_k(model,\n",
    "                                 test,\n",
    "                                 train_interactions=train,\n",
    "                                 item_features=item_features,\n",
    "                                 user_features=user_features,\n",
    "                                 num_threads=NUM_THREADS)\n",
    "\n",
    "print(f'Exact precision (per user): {found_precision}\\n')\n",
    "test_precision = np.nanmean(found_precision)\n",
    "print(f'Hybrid test set Precision at K: {describe(found_precision)}\\n')\n",
    "print('Hybrid test set mean Precision at K: %s' % test_precision)"
   ]
  },
  {
   "cell_type": "code",
   "execution_count": 70,
   "metadata": {},
   "outputs": [
    {
     "name": "stdout",
     "output_type": "stream",
     "text": [
      "Hybrid test set Recall at K: 0.13543779656511434\n"
     ]
    }
   ],
   "source": [
    "test_recall = np.nanmean(recall_at_k(model,\n",
    "                                     test,\n",
    "                                     train_interactions=train,\n",
    "                                     item_features=item_features,\n",
    "                                     user_features=user_features,\n",
    "                                     num_threads=NUM_THREADS))\n",
    "print('Hybrid test set Recall at K: %s' % test_recall)"
   ]
  },
  {
   "cell_type": "markdown",
   "metadata": {},
   "source": [
    "### Unaggregated dataset"
   ]
  },
  {
   "cell_type": "markdown",
   "metadata": {},
   "source": [
    "At the moment, lightfm doesn't support multiple (duplicated) pairs of user-item (holding different values for user features). "
   ]
  },
  {
   "cell_type": "markdown",
   "metadata": {},
   "source": [
    "## Conclusions"
   ]
  },
  {
   "cell_type": "markdown",
   "metadata": {},
   "source": [
    "LightFM algorithm was able to recommend songs with mediocre results, with a performance similar to collaborative filtering done by the deep recommender 'spotlight' framework."
   ]
  }
 ],
 "metadata": {
  "kernelspec": {
   "display_name": "Python 3",
   "language": "python",
   "name": "python3"
  },
  "language_info": {
   "codemirror_mode": {
    "name": "ipython",
    "version": 3
   },
   "file_extension": ".py",
   "mimetype": "text/x-python",
   "name": "python",
   "nbconvert_exporter": "python",
   "pygments_lexer": "ipython3",
   "version": "3.6.8"
  }
 },
 "nbformat": 4,
 "nbformat_minor": 2
}
